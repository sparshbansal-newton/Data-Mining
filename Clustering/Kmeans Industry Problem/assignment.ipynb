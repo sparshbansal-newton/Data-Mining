{
 "cells": [
  {
   "cell_type": "markdown",
   "id": "15f88828-262b-4110-b810-b8bf6477ba95",
   "metadata": {},
   "source": [
    "#### Problem Statement\n",
    "\n",
    "HELP International has raised around $10 million. The CEO needs to decide how to use this money strategically and effectively. You have been provided with a dataset named **`\"country_data.csv\"`**, which includes various features. The dataset comprises the following columns:\n",
    "\n",
    "  - `country`: Name of the country.\n",
    "  - `child_mort`: Child mortality rate, the number of deaths of children under 5 years of age per 1000 live births.\n",
    "  - `exports`: Exports of goods and services as a percentage of the country's GDP.\n",
    "  - `health`: Health expenditure as a percentage of the country's GDP.\n",
    "  - `imports`: Imports of goods and services as a percentage of the country's GDP.\n",
    "  - `income`: Net income per person in USD.\n",
    "  - `inflation`: The rate at which the general level of prices for goods and services is rising, and subsequently, purchasing power is falling(%).\n",
    "  - `life_expec`: Life expectancy at birth, indicating the number of years a newborn is expected to live.\n",
    "  - `total_fer`: Total fertility rate, the average number of children that would be born to a woman over her lifetime.\n",
    "  - `gdpp`: GDP per capita in USD, representing the average economic output per person.\n",
    "\n",
    "As a data scientist / AI engineer, your task is to use this dataset to categorize / cluster the countries using socio-economic and health factors that determine the overall development of the country."
   ]
  },
  {
   "cell_type": "code",
   "execution_count": 3,
   "id": "1da10c34-b39d-4ffa-8385-934b1feb8d17",
   "metadata": {},
   "outputs": [],
   "source": [
    "# **Dataset Credits**: https://www.kaggle.com/datasets/rohan0301/unsupervised-learning-on-country-data/data \n",
    "\n",
    "# # Released under MIT License\n",
    "\n",
    "# #Copyright (c) 2013 Mark Otto.\n",
    "\n",
    "# #Copyright (c) 2017 Andrew Fong.)"
   ]
  },
  {
   "cell_type": "markdown",
   "id": "98f83f74-8cba-4f6a-a3f3-1384301052bf",
   "metadata": {},
   "source": [
    "**Import Necessary Libraries**"
   ]
  },
  {
   "cell_type": "code",
   "execution_count": 1,
   "id": "bbf822ec-38c2-47bb-a0d5-df8d87548385",
   "metadata": {},
   "outputs": [],
   "source": [
    "# Importing all necessary libraries\n",
    "\n",
    "\n"
   ]
  },
  {
   "cell_type": "markdown",
   "id": "6f620a78-068c-4f2d-963a-4086fb7f198a",
   "metadata": {},
   "source": [
    "### Task 1: Data Preparation and Exploration\n",
    "\n",
    "1. Import the data from the `country_data.csv` file into a pandas DataFrame.\n",
    "2. Display the number of rows and columns in the dataset.\n",
    "3. Display the first few rows of the dataset to get an overview.\n",
    "4. Use the `describe()` function to obtain the complete statistics for each feature.\n",
    "5. Visualize the distribution of `child_mort, income, and gdpp` using histograms.\n",
    "6. Create pairplots to visualize relationships between features.\n"
   ]
  },
  {
   "cell_type": "code",
   "execution_count": 2,
   "id": "e6a3ad84-dcf1-467d-a8b8-3ce1ea3639a7",
   "metadata": {},
   "outputs": [],
   "source": [
    "# Import the dataset\n",
    "\n",
    "\n",
    "# Display the number of rows and columns\n",
    "\n",
    "\n",
    "# Display the first few rows of the dataset in DataFrame format\n"
   ]
  },
  {
   "cell_type": "code",
   "execution_count": 3,
   "id": "bd505421-cb8e-48f3-a459-a73a279537d5",
   "metadata": {},
   "outputs": [],
   "source": [
    "# Basic statistics for each feature.\n",
    "\n"
   ]
  },
  {
   "cell_type": "code",
   "execution_count": 4,
   "id": "5bf7004c-c53b-4e3e-828d-f4662b094aed",
   "metadata": {},
   "outputs": [],
   "source": [
    "# Visualize the distribution of 'child_mort', 'income', and 'gdpp'\n",
    "\n"
   ]
  },
  {
   "cell_type": "code",
   "execution_count": 5,
   "id": "decce835-906b-448e-adf2-5def35316c0b",
   "metadata": {},
   "outputs": [],
   "source": [
    "# Create pairplots to visualize relationships between features.\n",
    "\n"
   ]
  },
  {
   "cell_type": "markdown",
   "id": "81a6ae5c-40f4-42b4-990a-e06211426963",
   "metadata": {},
   "source": [
    "### Task 2: Initial K-means Clustering\n",
    "\n",
    "1. Drop the `'country'` column since it's not a numerical feature and we can't use it for clustering. Perform this step in a new DataFrame called `'df_cluster1'`.\n",
    "2. Use StandardScaler to standardize the numerical features in 'df_cluster1', ensuring they have a mean of 0 and a standard deviation of 1, bringing all features onto a common scale.\n",
    "3. Apply K-Means clustering to the standardized data in 'df_cluster1' with an initial number of clusters (e.g., 4).\n",
    "4. Print the inertia and centroids obtained from the KMeans model to understand the clustering performance.\n",
    "5. Add the cluster labels to the original DataFrame 'df'.\n",
    "6. Create a pair plot to visualize the relationships between all relevant features, colored by cluster labels."
   ]
  },
  {
   "cell_type": "code",
   "execution_count": 6,
   "id": "d20d87c7-80c6-4bc4-a622-d47f70c09b8a",
   "metadata": {},
   "outputs": [],
   "source": [
    "# Drop the 'country' column since it's not a numerical feature\n",
    "\n",
    "\n",
    "\n",
    "# Standardize the numerical features\n",
    "\n",
    "\n",
    "\n",
    "#check few rows\n"
   ]
  },
  {
   "cell_type": "code",
   "execution_count": 7,
   "id": "803dfed9-d229-4376-89ee-d6fd2be90319",
   "metadata": {},
   "outputs": [],
   "source": [
    "# Perform KMeans clustering withh n_clusters as 4\n",
    "\n",
    "\n",
    "\n",
    "# Fit the KMeans model to the data (df_cluster)\n",
    "\n"
   ]
  },
  {
   "cell_type": "code",
   "execution_count": 8,
   "id": "390202f3-87a6-4ca6-aa44-29a2f11f1443",
   "metadata": {},
   "outputs": [],
   "source": [
    "#Print the inertia and centroids\n",
    "\n",
    "#Inertia\n",
    "\n",
    "\n",
    "#Centroids\n",
    "\n"
   ]
  },
  {
   "cell_type": "code",
   "execution_count": 9,
   "id": "e46fbea1-ff4f-4813-9063-1a987afa6fd7",
   "metadata": {},
   "outputs": [],
   "source": [
    "# Add the cluster labels to the original DataFrame 'df'.\n",
    "\n"
   ]
  },
  {
   "cell_type": "code",
   "execution_count": 10,
   "id": "971df73f-1441-42fc-88d5-2983f6ec4ca3",
   "metadata": {},
   "outputs": [],
   "source": [
    "#Create a pair plot to visualize the relationships between all relevant features, colored by cluster labels.\n",
    "\n"
   ]
  },
  {
   "cell_type": "markdown",
   "id": "da5cece6-0413-4f0b-b56d-ed34a5033fb0",
   "metadata": {},
   "source": [
    "### Task3: Elbow Method for Determining Optimal Clusters\n",
    "\n",
    "- Use the Elbow Method to determine the optimal number of clusters. Check clusters ranging from 1 to 20.\n",
    "- Plot the Elbow Method graph to visualize the optimal number of clusters.\n",
    "- Train the KMeans model using the number of clusters identified by the Elbow Method."
   ]
  },
  {
   "cell_type": "code",
   "execution_count": 11,
   "id": "9ab23c5e-943f-4d8d-876d-a8a678b2e386",
   "metadata": {},
   "outputs": [],
   "source": [
    "# Determine the optimal number of clusters using the Elbow Method\n",
    "\n",
    "\n",
    "\n",
    "# Plot the Elbow Method graph\n"
   ]
  },
  {
   "cell_type": "code",
   "execution_count": 12,
   "id": "07255e86-d701-4e12-a99b-950f616ffa17",
   "metadata": {},
   "outputs": [],
   "source": [
    "# Train the KMeans model using the number of clusters identified by the Elbow Method.\n",
    "\n",
    "# Perform KMeans clustering withh optimal n_clusters\n",
    "\n",
    "\n",
    "# Fit the KMeans model to the data (df_cluster)\n",
    "\n",
    "\n",
    "#assigning the cluster values\n"
   ]
  },
  {
   "cell_type": "code",
   "execution_count": 13,
   "id": "112776be-f015-4966-98f0-4a8f4d88840a",
   "metadata": {},
   "outputs": [],
   "source": [
    "#Print the inertia and centroids\n",
    "\n",
    "#Inertia\n",
    "\n",
    "\n",
    "#Centroids\n"
   ]
  },
  {
   "cell_type": "markdown",
   "id": "abdc92e6-3867-420f-a578-d9574dadc668",
   "metadata": {},
   "source": [
    "### Task4: Final Insights and Interpretation After Applying K-Means (Based on Pairwise Plot Analysis)"
   ]
  }
 ],
 "metadata": {
  "kernelspec": {
   "display_name": "Python [conda env:base] *",
   "language": "python",
   "name": "conda-base-py"
  },
  "language_info": {
   "codemirror_mode": {
    "name": "ipython",
    "version": 3
   },
   "file_extension": ".py",
   "mimetype": "text/x-python",
   "name": "python",
   "nbconvert_exporter": "python",
   "pygments_lexer": "ipython3",
   "version": "3.13.5"
  }
 },
 "nbformat": 4,
 "nbformat_minor": 5
}
