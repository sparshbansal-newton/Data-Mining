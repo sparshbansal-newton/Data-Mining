{
 "cells": [
  {
   "cell_type": "markdown",
   "id": "3f341669-1fe9-4d1e-8a51-4e4dbe087058",
   "metadata": {},
   "source": [
    "# 🧪 K-Means Clustering Implementation\n",
    "\n",
    "\n",
    "In this lab, we will explore **K-Means Clustering**, an unsupervised learning algorithm used to group data into clusters.  \n",
    "We will use a sample dataset (`income.csv`) and visualize the results using scatter plots.\n",
    "\n",
    "---\n",
    "\n",
    "**Learning Objectives**:\n",
    "- Implement K-Means using `scikit-learn`\n",
    "- Visualize clusters with Matplotlib / seaborn\n",
    "- Use the **Elbow Method** to find the optimal `k`\n",
    "\n",
    "\n",
    "\n"
   ]
  },
  {
   "cell_type": "markdown",
   "id": "8abdab5a-7fe4-4ff0-949d-afc816b9344b",
   "metadata": {},
   "source": [
    "## Import Required Libraries"
   ]
  },
  {
   "cell_type": "code",
   "execution_count": 2,
   "id": "ff4ad318-5934-472d-b010-afb16f9d8096",
   "metadata": {},
   "outputs": [],
   "source": [
    "import pandas as pd\n",
    "import matplotlib.pyplot as plt\n",
    "from sklearn.cluster import KMeans"
   ]
  },
  {
   "cell_type": "markdown",
   "id": "caa5ca13-47a6-4d64-bf6d-d3c4fc30a67f",
   "metadata": {},
   "source": [
    "## Load Dataset"
   ]
  },
  {
   "cell_type": "code",
   "execution_count": 3,
   "id": "f9c2b0d2-ff39-43b3-bd92-751d2e387676",
   "metadata": {},
   "outputs": [
    {
     "data": {
      "text/html": [
       "<div>\n",
       "<style scoped>\n",
       "    .dataframe tbody tr th:only-of-type {\n",
       "        vertical-align: middle;\n",
       "    }\n",
       "\n",
       "    .dataframe tbody tr th {\n",
       "        vertical-align: top;\n",
       "    }\n",
       "\n",
       "    .dataframe thead th {\n",
       "        text-align: right;\n",
       "    }\n",
       "</style>\n",
       "<table border=\"1\" class=\"dataframe\">\n",
       "  <thead>\n",
       "    <tr style=\"text-align: right;\">\n",
       "      <th></th>\n",
       "      <th>Name</th>\n",
       "      <th>Age</th>\n",
       "      <th>Income($)</th>\n",
       "    </tr>\n",
       "  </thead>\n",
       "  <tbody>\n",
       "    <tr>\n",
       "      <th>0</th>\n",
       "      <td>Rob</td>\n",
       "      <td>27</td>\n",
       "      <td>70000</td>\n",
       "    </tr>\n",
       "    <tr>\n",
       "      <th>1</th>\n",
       "      <td>Michael</td>\n",
       "      <td>29</td>\n",
       "      <td>90000</td>\n",
       "    </tr>\n",
       "    <tr>\n",
       "      <th>2</th>\n",
       "      <td>Mohan</td>\n",
       "      <td>29</td>\n",
       "      <td>61000</td>\n",
       "    </tr>\n",
       "    <tr>\n",
       "      <th>3</th>\n",
       "      <td>Ismail</td>\n",
       "      <td>28</td>\n",
       "      <td>60000</td>\n",
       "    </tr>\n",
       "    <tr>\n",
       "      <th>4</th>\n",
       "      <td>Kory</td>\n",
       "      <td>42</td>\n",
       "      <td>150000</td>\n",
       "    </tr>\n",
       "  </tbody>\n",
       "</table>\n",
       "</div>"
      ],
      "text/plain": [
       "      Name  Age  Income($)\n",
       "0      Rob   27      70000\n",
       "1  Michael   29      90000\n",
       "2    Mohan   29      61000\n",
       "3   Ismail   28      60000\n",
       "4     Kory   42     150000"
      ]
     },
     "execution_count": 3,
     "metadata": {},
     "output_type": "execute_result"
    }
   ],
   "source": [
    "# Load the dataset\n",
    "data = pd.read_csv(\"income.csv\")\n",
    "\n",
    "# Display first few rows\n",
    "data.head()"
   ]
  },
  {
   "cell_type": "markdown",
   "id": "8d37a849-31e0-4cc9-b06c-a95afbc1fb58",
   "metadata": {},
   "source": [
    "## Exploratory Data Analysis (EDA)"
   ]
  },
  {
   "cell_type": "code",
   "execution_count": 4,
   "id": "7d3ec675-3bef-4e96-98c8-88da0a957c4a",
   "metadata": {},
   "outputs": [
    {
     "name": "stdout",
     "output_type": "stream",
     "text": [
      "<class 'pandas.core.frame.DataFrame'>\n",
      "RangeIndex: 22 entries, 0 to 21\n",
      "Data columns (total 3 columns):\n",
      " #   Column     Non-Null Count  Dtype \n",
      "---  ------     --------------  ----- \n",
      " 0   Name       22 non-null     object\n",
      " 1   Age        22 non-null     int64 \n",
      " 2   Income($)  22 non-null     int64 \n",
      "dtypes: int64(2), object(1)\n",
      "memory usage: 660.0+ bytes\n",
      "None\n",
      "             Age      Income($)\n",
      "count  22.000000      22.000000\n",
      "mean   34.818182   90431.818182\n",
      "std     5.901060   43505.964412\n",
      "min    26.000000   45000.000000\n",
      "25%    29.000000   58500.000000\n",
      "50%    36.500000   67500.000000\n",
      "75%    39.750000  135250.000000\n",
      "max    43.000000  162000.000000\n"
     ]
    }
   ],
   "source": [
    "# Basic info\n",
    "print(data.info())\n",
    "print(data.describe())\n"
   ]
  },
  {
   "cell_type": "code",
   "execution_count": 5,
   "id": "26654fcc-a4b2-4fe1-8f69-79301c59fd0c",
   "metadata": {},
   "outputs": [
    {
     "data": {
      "image/png": "[encoded data removed]",
      "text/plain": [
       "<Figure size 640x480 with 1 Axes>"
      ]
     },
     "metadata": {},
     "output_type": "display_data"
    }
   ],
   "source": [
    "# Quick visualization\n",
    "plt.scatter(data['Age'], data['Income($)'])\n",
    "plt.xlabel(\"Age\")\n",
    "plt.ylabel(\"Income ($)\")\n",
    "plt.title(\"Age vs Income Scatter Plot\")\n",
    "plt.show()"
   ]
  },
  {
   "cell_type": "markdown",
   "id": "56bbffd0-af6a-447a-8a7b-02e49471a055",
   "metadata": {},
   "source": [
    "## Apply K-Means Clustering"
   ]
  },
  {
   "cell_type": "code",
   "execution_count": 6,
   "id": "64f0751c-4986-43a3-9287-732638783ede",
   "metadata": {},
   "outputs": [
    {
     "data": {
      "text/plain": [
       "array([0, 2, 0, 0, 1, 1, 1, 1, 1, 1, 1, 0, 0, 0, 0, 0, 0, 0, 0, 2, 2, 0],\n",
       "      dtype=int32)"
      ]
     },
     "execution_count": 6,
     "metadata": {},
     "output_type": "execute_result"
    }
   ],
   "source": [
    "# Apply KMeans with 3 clusters (example)\n",
    "km = KMeans(n_clusters=3, n_init='auto')\n",
    "km.fit(data[[\"Age\", \"Income($)\"]])\n",
    "km.labels_\n",
    "\n"
   ]
  },
  {
   "cell_type": "code",
   "execution_count": 7,
   "id": "733aca7e-498e-447a-bdf2-937e03d07296",
   "metadata": {},
   "outputs": [
    {
     "data": {
      "text/html": [
       "<div>\n",
       "<style scoped>\n",
       "    .dataframe tbody tr th:only-of-type {\n",
       "        vertical-align: middle;\n",
       "    }\n",
       "\n",
       "    .dataframe tbody tr th {\n",
       "        vertical-align: top;\n",
       "    }\n",
       "\n",
       "    .dataframe thead th {\n",
       "        text-align: right;\n",
       "    }\n",
       "</style>\n",
       "<table border=\"1\" class=\"dataframe\">\n",
       "  <thead>\n",
       "    <tr style=\"text-align: right;\">\n",
       "      <th></th>\n",
       "      <th>Name</th>\n",
       "      <th>Age</th>\n",
       "      <th>Income($)</th>\n",
       "      <th>Cluster</th>\n",
       "    </tr>\n",
       "  </thead>\n",
       "  <tbody>\n",
       "    <tr>\n",
       "      <th>0</th>\n",
       "      <td>Rob</td>\n",
       "      <td>27</td>\n",
       "      <td>70000</td>\n",
       "      <td>0</td>\n",
       "    </tr>\n",
       "    <tr>\n",
       "      <th>1</th>\n",
       "      <td>Michael</td>\n",
       "      <td>29</td>\n",
       "      <td>90000</td>\n",
       "      <td>2</td>\n",
       "    </tr>\n",
       "    <tr>\n",
       "      <th>2</th>\n",
       "      <td>Mohan</td>\n",
       "      <td>29</td>\n",
       "      <td>61000</td>\n",
       "      <td>0</td>\n",
       "    </tr>\n",
       "    <tr>\n",
       "      <th>3</th>\n",
       "      <td>Ismail</td>\n",
       "      <td>28</td>\n",
       "      <td>60000</td>\n",
       "      <td>0</td>\n",
       "    </tr>\n",
       "    <tr>\n",
       "      <th>4</th>\n",
       "      <td>Kory</td>\n",
       "      <td>42</td>\n",
       "      <td>150000</td>\n",
       "      <td>1</td>\n",
       "    </tr>\n",
       "  </tbody>\n",
       "</table>\n",
       "</div>"
      ],
      "text/plain": [
       "      Name  Age  Income($)  Cluster\n",
       "0      Rob   27      70000        0\n",
       "1  Michael   29      90000        2\n",
       "2    Mohan   29      61000        0\n",
       "3   Ismail   28      60000        0\n",
       "4     Kory   42     150000        1"
      ]
     },
     "execution_count": 7,
     "metadata": {},
     "output_type": "execute_result"
    }
   ],
   "source": [
    "data['Cluster'] = km.labels_\n",
    "data.head()"
   ]
  },
  {
   "cell_type": "code",
   "execution_count": 7,
   "id": "49db6531-ec73-48ea-8ff3-16767b339a22",
   "metadata": {},
   "outputs": [],
   "source": [
    "# scatter plot"
   ]
  },
  {
   "cell_type": "code",
   "execution_count": 8,
   "id": "5f0c3f69-6feb-47fc-b26a-17e56ea6f9b2",
   "metadata": {},
   "outputs": [
    {
     "data": {
      "text/plain": [
       "<Axes: xlabel='Age', ylabel='Income($)'>"
      ]
     },
     "execution_count": 8,
     "metadata": {},
     "output_type": "execute_result"
    },
    {
     "data": {
      "image/png": "[encoded data removed]",
      "text/plain": [
       "<Figure size 640x480 with 1 Axes>"
      ]
     },
     "metadata": {},
     "output_type": "display_data"
    }
   ],
   "source": [
    "import seaborn as sns\n",
    "\n",
    "sns.scatterplot(data, x='Age', y='Income($)',  palette='viridis', s=75, hue=\"Cluster\")"
   ]
  },
  {
   "cell_type": "markdown",
   "id": "69bdabf8-1292-4930-9b95-3a94e4464a83",
   "metadata": {},
   "source": [
    "When K-Means was applied on Age vs. Income data, the clusters looked incorrect because the features were on very different scales.\n",
    "- Since Income had much larger values than Age, it dominated the distance calculations.\n",
    "- To fix this, we need to scale the data (e.g., using **StandardScaler or MinMaxScaler**) so that all features contribute fairly to clustering.\n",
    "  \n",
    "**Conclusion**: Always consider **scaling** your data before applying K-Means or any distance-based algorithm."
   ]
  },
  {
   "cell_type": "code",
   "execution_count": null,
   "id": "8251b6bc-f533-4915-98d0-9a325bf6abc7",
   "metadata": {},
   "outputs": [],
   "source": []
  },
  {
   "cell_type": "markdown",
   "id": "7ba6f4d4-7315-43a3-beba-a47087ed764e",
   "metadata": {},
   "source": [
    "### MinMax Scaling\n",
    "\n",
    "Clusters are not formed properly. It can be due to Age and Income columns being on a different scale. We can try scaling them"
   ]
  },
  {
   "cell_type": "code",
   "execution_count": 9,
   "id": "036b0c6c-4881-4ce5-a579-bcc7c23e188e",
   "metadata": {},
   "outputs": [
    {
     "data": {
      "text/html": [
       "<div>\n",
       "<style scoped>\n",
       "    .dataframe tbody tr th:only-of-type {\n",
       "        vertical-align: middle;\n",
       "    }\n",
       "\n",
       "    .dataframe tbody tr th {\n",
       "        vertical-align: top;\n",
       "    }\n",
       "\n",
       "    .dataframe thead th {\n",
       "        text-align: right;\n",
       "    }\n",
       "</style>\n",
       "<table border=\"1\" class=\"dataframe\">\n",
       "  <thead>\n",
       "    <tr style=\"text-align: right;\">\n",
       "      <th></th>\n",
       "      <th>Age</th>\n",
       "      <th>Income($)</th>\n",
       "    </tr>\n",
       "  </thead>\n",
       "  <tbody>\n",
       "    <tr>\n",
       "      <th>0</th>\n",
       "      <td>0.058824</td>\n",
       "      <td>0.213675</td>\n",
       "    </tr>\n",
       "    <tr>\n",
       "      <th>1</th>\n",
       "      <td>0.176471</td>\n",
       "      <td>0.384615</td>\n",
       "    </tr>\n",
       "    <tr>\n",
       "      <th>2</th>\n",
       "      <td>0.176471</td>\n",
       "      <td>0.136752</td>\n",
       "    </tr>\n",
       "    <tr>\n",
       "      <th>3</th>\n",
       "      <td>0.117647</td>\n",
       "      <td>0.128205</td>\n",
       "    </tr>\n",
       "    <tr>\n",
       "      <th>4</th>\n",
       "      <td>0.941176</td>\n",
       "      <td>0.897436</td>\n",
       "    </tr>\n",
       "  </tbody>\n",
       "</table>\n",
       "</div>"
      ],
      "text/plain": [
       "        Age  Income($)\n",
       "0  0.058824   0.213675\n",
       "1  0.176471   0.384615\n",
       "2  0.176471   0.136752\n",
       "3  0.117647   0.128205\n",
       "4  0.941176   0.897436"
      ]
     },
     "execution_count": 9,
     "metadata": {},
     "output_type": "execute_result"
    }
   ],
   "source": [
    "from sklearn.preprocessing import MinMaxScaler\n",
    "\n",
    "scaler = MinMaxScaler()\n",
    "\n",
    "data_scaled = pd.DataFrame(columns=['Age', 'Income($)'])\n",
    "\n",
    "data_scaled[[\"Age\", \"Income($)\"]] = scaler.fit_transform(data[[\"Age\", \"Income($)\"]])\n",
    "data_scaled.head()"
   ]
  },
  {
   "cell_type": "code",
   "execution_count": 10,
   "id": "2f63dba1-91fa-452d-9be6-0069505498c5",
   "metadata": {},
   "outputs": [],
   "source": [
    "# Apply KMeans with 3 clusters\n",
    "\n",
    "km = KMeans(n_clusters=3, n_init='auto')\n",
    "km.fit(data_scaled[[\"Age\", \"Income($)\"]])\n",
    "data_scaled['cluster']= km.labels_"
   ]
  },
  {
   "cell_type": "code",
   "execution_count": 11,
   "id": "9d4c771c-799b-441b-8ebe-767821be864b",
   "metadata": {},
   "outputs": [
    {
     "data": {
      "text/plain": [
       "<Axes: xlabel='Age', ylabel='Income($)'>"
      ]
     },
     "execution_count": 11,
     "metadata": {},
     "output_type": "execute_result"
    },
    {
     "data": {
      "image/png": "[encoded data removed]",
      "text/plain": [
       "<Figure size 640x480 with 1 Axes>"
      ]
     },
     "metadata": {},
     "output_type": "display_data"
    }
   ],
   "source": [
    "# scatter plot showing the clusters\n",
    "\n",
    "import seaborn as sns\n",
    "\n",
    "sns.scatterplot(data_scaled, x='Age', y='Income($)',  palette='viridis', s=75, hue=\"cluster\")\n"
   ]
  },
  {
   "cell_type": "code",
   "execution_count": 12,
   "id": "e0afe140-46ed-49ec-b1f4-18c8070ad654",
   "metadata": {},
   "outputs": [
    {
     "data": {
      "text/plain": [
       "0.4750783498553096"
      ]
     },
     "execution_count": 12,
     "metadata": {},
     "output_type": "execute_result"
    }
   ],
   "source": [
    "km.inertia_"
   ]
  },
  {
   "cell_type": "code",
   "execution_count": 13,
   "id": "4a83c8fc-1648-4d76-9f62-325b222541a7",
   "metadata": {},
   "outputs": [
    {
     "data": {
      "text/plain": [
       "array([[0.85294118, 0.2022792 ],\n",
       "       [0.1372549 , 0.11633428],\n",
       "       [0.72268908, 0.8974359 ]])"
      ]
     },
     "execution_count": 13,
     "metadata": {},
     "output_type": "execute_result"
    }
   ],
   "source": [
    "centroids = km.cluster_centers_\n",
    "centroids"
   ]
  },
  {
   "cell_type": "code",
   "execution_count": 14,
   "id": "d3ea670b-60e6-4e35-bfef-6f322c7630bd",
   "metadata": {},
   "outputs": [
    {
     "data": {
      "image/png": "[encoded data removed]",
      "text/plain": [
       "<Figure size 640x480 with 1 Axes>"
      ]
     },
     "metadata": {},
     "output_type": "display_data"
    }
   ],
   "source": [
    "## show the k-Means centroids in scatter plot\n",
    "\n",
    "sns.scatterplot(data_scaled, x='Age', y='Income($)', s=75, hue=km.labels_)\n",
    "plt.scatter(centroids[:,0] , centroids[:,1], marker='*', c='red')\n",
    "\n",
    "for i in range(len(centroids)):\n",
    "    plt.text(centroids[i,0], centroids[i,1],\n",
    "             f\"({centroids[i,0]:.2f}, {centroids[i,1]:.2f})\")"
   ]
  },
  {
   "cell_type": "markdown",
   "id": "f936c3fb-91ec-41e5-beab-cd1b40c05665",
   "metadata": {},
   "source": [
    "***"
   ]
  },
  {
   "cell_type": "code",
   "execution_count": 22,
   "id": "da33f181-6168-4891-9075-532c779bfd67",
   "metadata": {},
   "outputs": [
    {
     "name": "stdout",
     "output_type": "stream",
     "text": [
      "\n",
      "================ ITERATION 1 =================\n",
      "\n",
      "Centroids used this iteration (scaled):\n",
      "    Age_scaled  Income_scaled\n",
      "C1    0.058824       0.213675\n",
      "C2    0.117647       0.051282\n",
      "C3    0.588235       0.948718\n",
      "\n",
      "Distance table + cluster assignment:\n",
      "    Name  Age  Income($)  Age_scaled  Income_scaled  Distance_C1  Distance_C2  Distance_C3  Cluster\n",
      "     Rob   27      70000    0.058824       0.213675     0.000000     0.172719     0.905850        1\n",
      " Michael   29      90000    0.176471       0.384615     0.207512     0.338484     0.698400        1\n",
      "   Mohan   29      61000    0.176471       0.136752     0.140563     0.103756     0.910406        2\n",
      "  Ismail   28      60000    0.117647       0.128205     0.103756     0.076923     0.945883        2\n",
      "    Kory   42     150000    0.941176       0.897436     1.116277     1.180753     0.356647        3\n",
      "  Gautam   39     155000    0.764706       0.940171     1.012949     1.099458     0.176677        3\n",
      "   David   41     160000    0.882353       0.982906     1.126906     1.205279     0.296098        3\n",
      "  Andrea   38     162000    0.705882       1.000000     1.018328     1.116282     0.128338        3\n",
      "    Brad   36     156000    0.588235       0.948718     0.905850     1.013333     0.000000        3\n",
      "Angelina   35     130000    0.529412       0.726496     0.696016     0.790863     0.229876        3\n",
      "  Donald   37     137000    0.647059       0.786325     0.820944     0.905850     0.172719        3\n",
      "     Tom   26      45000    0.000000       0.000000     0.221624     0.128338     1.116282        2\n",
      "  Arnold   27      48000    0.058824       0.025641     0.188034     0.064169     1.064118        2\n",
      "   Jared   28      51000    0.117647       0.051282     0.172719     0.000000     1.013333        2\n",
      "   Stark   29      49500    0.176471       0.038462     0.211047     0.060204     0.999058        2\n",
      "  Ranbir   32      53000    0.352941       0.068376     0.328050     0.235914     0.911244        2\n",
      "  Dipika   40      65000    0.823529       0.170940     0.765899     0.715952     0.812589        2\n",
      "Priyanka   41      63000    0.882353       0.153846     0.825700     0.771553     0.847541        2\n",
      "    Nick   43      64000    1.000000       0.162393     0.942573     0.889321     0.887613        3\n",
      "    Alia   39      80000    0.764706       0.299145     0.711038     0.692908     0.673117        3\n",
      "     Sid   41      82000    0.882353       0.316239     0.829892     0.809307     0.697520        3\n",
      "   Abdul   39      58000    0.764706       0.111111     0.713295     0.649819     0.855995        2\n",
      "\n",
      "================ ITERATION 2 =================\n",
      "\n",
      "Centroids used this iteration (scaled):\n",
      "    Age_scaled  Income_scaled\n",
      "C1    0.117647       0.299145\n",
      "C2    0.347059       0.088462\n",
      "C3    0.770588       0.705983\n",
      "\n",
      "Distance table + cluster assignment:\n",
      "    Name  Age  Income($)  Age_scaled  Income_scaled  Distance_C1  Distance_C2  Distance_C3  Cluster\n",
      "     Rob   27      70000    0.058824       0.213675     0.103756     0.314258     0.865434        1\n",
      " Michael   29      90000    0.176471       0.384615     0.103756     0.341771     0.675465        1\n",
      "   Mohan   29      61000    0.176471       0.136752     0.172719     0.177292     0.822800        1\n",
      "  Ismail   28      60000    0.117647       0.128205     0.170940     0.232829     0.871871        1\n",
      "    Kory   42     150000    0.941176       0.897436     1.017916     1.003701     0.256427        3\n",
      "  Gautam   39     155000    0.764706       0.940171     0.910823     0.948598     0.234262        3\n",
      "   David   41     160000    0.882353       0.982906     1.025819     1.042387     0.298626        3\n",
      "  Andrea   38     162000    0.705882       1.000000     0.914996     0.979621     0.301053        3\n",
      "    Brad   36     156000    0.588235       0.948718     0.802121     0.893424     0.303600        3\n",
      "Angelina   35     130000    0.529412       0.726496     0.593446     0.663581     0.242047        3\n",
      "  Donald   37     137000    0.647059       0.786325     0.719459     0.759614     0.147358        3\n",
      "     Tom   26      45000    0.000000       0.000000     0.321448     0.358155     1.045092        1\n",
      "  Arnold   27      48000    0.058824       0.025641     0.279758     0.295002     0.984619        1\n",
      "   Jared   28      51000    0.117647       0.051282     0.247863     0.232405     0.924643        2\n",
      "   Stark   29      49500    0.176471       0.038462     0.267238     0.177765     0.893622        2\n",
      "  Ranbir   32      53000    0.352941       0.068376     0.329572     0.020929     0.762215        2\n",
      "  Dipika   40      65000    0.823529       0.170940     0.717430     0.483557     0.537656        2\n",
      "Priyanka   41      63000    0.882353       0.153846     0.778387     0.539273     0.563335        2\n",
      "    Nick   43      64000    1.000000       0.162393     0.892887     0.657113     0.590017        3\n",
      "    Alia   39      80000    0.764706       0.299145     0.647059     0.467778     0.406880        3\n",
      "     Sid   41      82000    0.882353       0.316239     0.764897     0.581741     0.405452        3\n",
      "   Abdul   39      58000    0.764706       0.111111     0.673826     0.418261     0.594901        2\n",
      "\n",
      "================ ITERATION 3 =================\n",
      "\n",
      "Centroids used this iteration (scaled):\n",
      "    Age_scaled  Income_scaled\n",
      "C1    0.098039       0.148148\n",
      "C2    0.519608       0.099003\n",
      "C3    0.770588       0.705983\n",
      "\n",
      "Distance table + cluster assignment:\n",
      "    Name  Age  Income($)  Age_scaled  Income_scaled  Distance_C1  Distance_C2  Distance_C3  Cluster\n",
      "     Rob   27      70000    0.058824       0.213675     0.076365     0.474839     0.865434        1\n",
      " Michael   29      90000    0.176471       0.384615     0.249135     0.446450     0.675465        1\n",
      "   Mohan   29      61000    0.176471       0.136752     0.079255     0.345207     0.822800        1\n",
      "  Ismail   28      60000    0.117647       0.128205     0.027968     0.403020     0.871871        1\n",
      "    Kory   42     150000    0.941176       0.897436     1.127968     0.902893     0.256427        3\n",
      "  Gautam   39     155000    0.764706       0.940171     1.035251     0.876149     0.234262        3\n",
      "   David   41     160000    0.882353       0.982906     1.145412     0.955442     0.298626        3\n",
      "  Andrea   38     162000    0.705882       1.000000     1.046482     0.920051     0.301053        3\n",
      "    Brad   36     156000    0.588235       0.948718     0.938725     0.852482     0.303600        3\n",
      "Angelina   35     130000    0.529412       0.726496     0.721504     0.627569     0.242047        3\n",
      "  Donald   37     137000    0.647059       0.786325     0.841838     0.699039     0.147358        3\n",
      "     Tom   26      45000    0.000000       0.000000     0.177650     0.528955     1.045092        1\n",
      "  Arnold   27      48000    0.058824       0.025641     0.128631     0.466588     0.984619        1\n",
      "   Jared   28      51000    0.117647       0.051282     0.098831     0.404784     0.924643        1\n",
      "   Stark   29      49500    0.176471       0.038462     0.134843     0.348437     0.893622        1\n",
      "  Ranbir   32      53000    0.352941       0.068376     0.267093     0.169457     0.762215        2\n",
      "  Dipika   40      65000    0.823529       0.170940     0.725848     0.312319     0.537656        2\n",
      "Priyanka   41      63000    0.882353       0.153846     0.784334     0.366868     0.563335        2\n",
      "    Nick   43      64000    1.000000       0.162393     0.902073     0.484556     0.590017        2\n",
      "    Alia   39      80000    0.764706       0.299145     0.683553     0.316433     0.406880        2\n",
      "     Sid   41      82000    0.882353       0.316239     0.802124     0.422819     0.405452        3\n",
      "   Abdul   39      58000    0.764706       0.111111     0.667695     0.245397     0.594901        2\n"
     ]
    }
   ],
   "source": [
    "import pandas as pd\n",
    "import numpy as np\n",
    "from sklearn.preprocessing import MinMaxScaler\n",
    "import math\n",
    "\n",
    "\n",
    "# 2. Scale Age and Income($) using MinMaxScaler -> creates Age_scaled, Income_scaled in [0,1]\n",
    "scaler = MinMaxScaler()\n",
    "df = pd.read_csv(\"income.csv\")\n",
    "df[['Age_scaled', 'Income_scaled']] = scaler.fit_transform(df[['Age', 'Income($)']])\n",
    "\n",
    "# We'll cluster on scaled values only\n",
    "data = df[['Age_scaled', 'Income_scaled']].copy()\n",
    "\n",
    "# 3. Initialize 3 random centroids from actual data points (reproducible using seed 42)\n",
    "np.random.seed(42)\n",
    "centroids = data.sample(n=3, random_state=42).to_numpy()\n",
    "\n",
    "def euclidean_distance(p1, p2):\n",
    "    return math.sqrt((p1[0] - p2[0])**2 + (p1[1] - p2[1])**2)\n",
    "\n",
    "history = []  # to store each iteration's centroids + distance table\n",
    "\n",
    "# 4. Run manual K-Means for 3 iterations\n",
    "for it in range(1, 4):  # Iteration 1,2,3\n",
    "    distances_all_points = []\n",
    "    cluster_assignments = []\n",
    "\n",
    "    # --- Step A: distance of every point to every centroid\n",
    "    for _, row in data.iterrows():\n",
    "        point = (row['Age_scaled'], row['Income_scaled'])\n",
    "        d_to_centroids = [euclidean_distance(point, centroids[c]) for c in range(3)]\n",
    "        distances_all_points.append(d_to_centroids)\n",
    "\n",
    "        # assign to nearest centroid (cluster numbers 1,2,3 for readability)\n",
    "        cluster_assignments.append(int(np.argmin(d_to_centroids)) + 1)\n",
    "\n",
    "    # --- Step B: build a nice table for this iteration\n",
    "    dist_arr = np.array(distances_all_points)\n",
    "    iter_table = df[['Name', 'Age', 'Income($)', 'Age_scaled', 'Income_scaled']].copy()\n",
    "    iter_table['Distance_C1'] = dist_arr[:, 0]\n",
    "    iter_table['Distance_C2'] = dist_arr[:, 1]\n",
    "    iter_table['Distance_C3'] = dist_arr[:, 2]\n",
    "    iter_table['Cluster'] = cluster_assignments\n",
    "\n",
    "    # save current centroids and table\n",
    "    iter_centroids_df = pd.DataFrame(\n",
    "        centroids,\n",
    "        columns=['Age_scaled', 'Income_scaled'],\n",
    "        index=[f'C{i+1}' for i in range(3)]\n",
    "    )\n",
    "    history.append((it, iter_centroids_df, iter_table))\n",
    "\n",
    "    # --- Step C: recompute centroids = mean of points in each cluster\n",
    "    new_centroids = []\n",
    "    cluster_assignments_np = np.array(cluster_assignments)\n",
    "\n",
    "    for cluster_id in range(1, 4):  # for cluster 1,2,3\n",
    "        cluster_points = data[cluster_assignments_np == cluster_id]\n",
    "        if len(cluster_points) > 0:\n",
    "            new_centroids.append(cluster_points.mean(axis=0).to_numpy())\n",
    "        else:\n",
    "            # if no points went to a centroid, keep it where it was\n",
    "            new_centroids.append(centroids[cluster_id - 1])\n",
    "\n",
    "    centroids = np.vstack(new_centroids)\n",
    "\n",
    "# 5. Print all iterations in a readable way\n",
    "for it, cents, table in history:\n",
    "    print(f\"\\n================ ITERATION {it} =================\\n\")\n",
    "\n",
    "    print(\"Centroids used this iteration (scaled):\")\n",
    "    print(cents)  # this shows C1, C2, C3 coordinates in scaled space\n",
    "\n",
    "    print(\"\\nDistance table + cluster assignment:\")\n",
    "    # includes:\n",
    "    # Name, Age, Income($), scaled cols,\n",
    "    # distance to each centroid,\n",
    "    # and final Cluster for that iteration\n",
    "    print(table.to_string(index=False))"
   ]
  },
  {
   "cell_type": "markdown",
   "id": "585f4da4-290e-4a02-bedd-9a9974865506",
   "metadata": {},
   "source": [
    "## Elbow Method to determine optimal number of clusters"
   ]
  },
  {
   "cell_type": "code",
   "execution_count": 15,
   "id": "50f31adf-6472-4202-92ed-17f84aa1bc38",
   "metadata": {},
   "outputs": [
    {
     "data": {
      "text/plain": [
       "[5.434011511988179,\n",
       " 2.091136388699078,\n",
       " 0.4750783498553096,\n",
       " 0.3491047094419565,\n",
       " 0.3871991429772462,\n",
       " 0.2247696122877267,\n",
       " 0.17473586079225928,\n",
       " 0.14580719346046297,\n",
       " 0.11073569527418642]"
      ]
     },
     "execution_count": 15,
     "metadata": {},
     "output_type": "execute_result"
    }
   ],
   "source": [
    "sse = [] # or WCSS\n",
    "\n",
    "k_rng = range(1,10)\n",
    "\n",
    "for k in k_rng:\n",
    "    km = KMeans(n_clusters=k, n_init='auto',random_state=42)\n",
    "    km.fit(data_scaled[[\"Age\", \"Income($)\"]])\n",
    "    sse.append(km.inertia_)\n",
    "sse"
   ]
  },
  {
   "cell_type": "code",
   "execution_count": 16,
   "id": "08458bd3-9ba0-49d5-bf42-6baf8ccee04f",
   "metadata": {},
   "outputs": [
    {
     "data": {
      "image/png": "[encoded data removed]",
      "text/plain": [
       "<Figure size 640x480 with 1 Axes>"
      ]
     },
     "metadata": {},
     "output_type": "display_data"
    }
   ],
   "source": [
    "plt.xlabel('K')\n",
    "plt.ylabel('Sum of squared error')\n",
    "plt.plot(k_rng,sse)\n",
    "plt.grid(True)\n",
    "plt.show()"
   ]
  },
  {
   "cell_type": "markdown",
   "id": "249aa952-1956-4b02-b282-a71e690b3787",
   "metadata": {},
   "source": [
    "The chart shows optimal number of clusters are 3"
   ]
  },
  {
   "cell_type": "markdown",
   "id": "95428c82-fa50-4451-8989-ed23f0fad195",
   "metadata": {},
   "source": [
    "***"
   ]
  }
 ],
 "metadata": {
  "kernelspec": {
   "display_name": "Python [conda env:base] *",
   "language": "python",
   "name": "conda-base-py"
  },
  "language_info": {
   "codemirror_mode": {
    "name": "ipython",
    "version": 3
   },
   "file_extension": ".py",
   "mimetype": "text/x-python",
   "name": "python",
   "nbconvert_exporter": "python",
   "pygments_lexer": "ipython3",
   "version": "3.13.5"
  }
 },
 "nbformat": 4,
 "nbformat_minor": 5
}
